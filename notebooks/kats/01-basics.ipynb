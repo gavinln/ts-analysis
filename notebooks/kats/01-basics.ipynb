{
 "cells": [
  {
   "cell_type": "markdown",
   "id": "40c7aa9f-1103-4097-bee1-c68716cc1921",
   "metadata": {},
   "source": [
    "# 01 Basics of Kats"
   ]
  },
  {
   "cell_type": "markdown",
   "id": "8e9d7628-289c-4661-b063-62788879076f",
   "metadata": {},
   "source": [
    "https://github.com/facebookresearch/Kats/blob/main/tutorials/kats_101_basics.ipynb"
   ]
  },
  {
   "cell_type": "markdown",
   "id": "8f66e106-ab59-46e3-8692-ec5b1025c731",
   "metadata": {},
   "source": [
    "## Setup libraries"
   ]
  },
  {
   "cell_type": "code",
   "execution_count": 3,
   "id": "3f5170a7-1de3-4756-8f95-4c8773a55fb0",
   "metadata": {},
   "outputs": [],
   "source": [
    "import pathlib\n",
    "import matplotlib.pyplot as plt\n",
    "from datetime import datetime, timedelta\n",
    "import pandas as pd\n",
    "import numpy as np\n",
    "import pandas as pd\n",
    "%matplotlib inline\n",
    "\n",
    "import warnings\n",
    "warnings.filterwarnings('ignore')\n",
    "from kats.consts import TimeSeriesData"
   ]
  },
  {
   "cell_type": "markdown",
   "id": "c0331c3c-fd3e-483f-a14f-ca3d18d2657c",
   "metadata": {},
   "source": [
    "## Get data"
   ]
  },
  {
   "cell_type": "markdown",
   "id": "8eba9405-2d60-4155-b2a3-b1634e673920",
   "metadata": {},
   "source": [
    "* wget https://raw.githubusercontent.com/facebookresearch/Kats/main/kats/data/air_passengers.csv\n",
    "* wget https://raw.githubusercontent.com/facebookresearch/Kats/main/kats/data/multi_ts.csv"
   ]
  },
  {
   "cell_type": "code",
   "execution_count": 4,
   "id": "891966c9-8677-4428-9156-4b1e46b66d84",
   "metadata": {},
   "outputs": [],
   "source": [
    "DATA_DIR = pathlib.Path('.')"
   ]
  },
  {
   "cell_type": "markdown",
   "id": "0e3fc13a-f8c0-465e-beb7-c742bb7fdf7c",
   "metadata": {},
   "source": [
    "TimeSeriesDelta objects can be created from a dataframe which has a \"time\" column and one or more \"value\" columns"
   ]
  },
  {
   "cell_type": "markdown",
   "id": "5c6f83a3-ae6a-474b-8e50-8ff089b2f94a",
   "metadata": {},
   "source": [
    "### Time series with one value"
   ]
  },
  {
   "cell_type": "code",
   "execution_count": 25,
   "id": "8b461d52-6454-46cc-88f0-b83ad2efa53d",
   "metadata": {},
   "outputs": [],
   "source": [
    "air_passengers_df = pd.read_csv(\n",
    "    DATA_DIR / 'air_passengers.csv', header=0, names=['time', 'value'])"
   ]
  },
  {
   "cell_type": "code",
   "execution_count": 27,
   "id": "e71b75f6-5798-4fe0-8e66-3fb34ee0dbac",
   "metadata": {},
   "outputs": [],
   "source": [
    "air_passengers_ts = TimeSeriesData(air_passengers_df)"
   ]
  },
  {
   "cell_type": "code",
   "execution_count": 36,
   "id": "b77e51d8-fb3c-4414-bc00-92a5850cb2a2",
   "metadata": {},
   "outputs": [
    {
     "data": {
      "text/html": [
       "<div>\n",
       "<style scoped>\n",
       "    .dataframe tbody tr th:only-of-type {\n",
       "        vertical-align: middle;\n",
       "    }\n",
       "\n",
       "    .dataframe tbody tr th {\n",
       "        vertical-align: top;\n",
       "    }\n",
       "\n",
       "    .dataframe thead th {\n",
       "        text-align: right;\n",
       "    }\n",
       "</style>\n",
       "<table border=\"1\" class=\"dataframe\">\n",
       "  <thead>\n",
       "    <tr style=\"text-align: right;\">\n",
       "      <th></th>\n",
       "      <th>time</th>\n",
       "      <th>value</th>\n",
       "    </tr>\n",
       "  </thead>\n",
       "  <tbody>\n",
       "    <tr>\n",
       "      <th>0</th>\n",
       "      <td>1949-01-01</td>\n",
       "      <td>112</td>\n",
       "    </tr>\n",
       "    <tr>\n",
       "      <th>1</th>\n",
       "      <td>1949-02-01</td>\n",
       "      <td>118</td>\n",
       "    </tr>\n",
       "    <tr>\n",
       "      <th>2</th>\n",
       "      <td>1949-03-01</td>\n",
       "      <td>132</td>\n",
       "    </tr>\n",
       "    <tr>\n",
       "      <th>3</th>\n",
       "      <td>1949-04-01</td>\n",
       "      <td>129</td>\n",
       "    </tr>\n",
       "    <tr>\n",
       "      <th>4</th>\n",
       "      <td>1949-05-01</td>\n",
       "      <td>121</td>\n",
       "    </tr>\n",
       "  </tbody>\n",
       "</table>\n",
       "</div>"
      ],
      "text/plain": [
       "        time  value\n",
       "0 1949-01-01    112\n",
       "1 1949-02-01    118\n",
       "2 1949-03-01    132\n",
       "3 1949-04-01    129\n",
       "4 1949-05-01    121"
      ]
     },
     "execution_count": 36,
     "metadata": {},
     "output_type": "execute_result"
    }
   ],
   "source": [
    "air_passengers_ts.to_dataframe().head()"
   ]
  },
  {
   "cell_type": "markdown",
   "id": "6baf6364-4e47-452d-99a2-d7ac83ec778d",
   "metadata": {},
   "source": [
    "### Time series with multiple values"
   ]
  },
  {
   "cell_type": "code",
   "execution_count": 37,
   "id": "7826d30f-02d2-4fce-acde-b05fea9f2705",
   "metadata": {},
   "outputs": [],
   "source": [
    "multi_ts_df = pd.read_csv(\n",
    "    DATA_DIR / 'multi_ts.csv', header=0,\n",
    "    names=['time', 'v1', 'v2'])"
   ]
  },
  {
   "cell_type": "code",
   "execution_count": 38,
   "id": "8cd573ab-000e-4f35-a251-9bc1125f4a75",
   "metadata": {},
   "outputs": [],
   "source": [
    "multi_ts = TimeSeriesData(multi_ts_df)"
   ]
  },
  {
   "cell_type": "code",
   "execution_count": 39,
   "id": "c6bacf77-e895-43ae-b3f1-a4c80744ddc5",
   "metadata": {},
   "outputs": [
    {
     "data": {
      "text/html": [
       "<div>\n",
       "<style scoped>\n",
       "    .dataframe tbody tr th:only-of-type {\n",
       "        vertical-align: middle;\n",
       "    }\n",
       "\n",
       "    .dataframe tbody tr th {\n",
       "        vertical-align: top;\n",
       "    }\n",
       "\n",
       "    .dataframe thead th {\n",
       "        text-align: right;\n",
       "    }\n",
       "</style>\n",
       "<table border=\"1\" class=\"dataframe\">\n",
       "  <thead>\n",
       "    <tr style=\"text-align: right;\">\n",
       "      <th></th>\n",
       "      <th>time</th>\n",
       "      <th>v1</th>\n",
       "      <th>v2</th>\n",
       "    </tr>\n",
       "  </thead>\n",
       "  <tbody>\n",
       "    <tr>\n",
       "      <th>0</th>\n",
       "      <td>2017-03-12</td>\n",
       "      <td>-0.109</td>\n",
       "      <td>53.8</td>\n",
       "    </tr>\n",
       "    <tr>\n",
       "      <th>1</th>\n",
       "      <td>2017-03-13</td>\n",
       "      <td>0.000</td>\n",
       "      <td>53.6</td>\n",
       "    </tr>\n",
       "    <tr>\n",
       "      <th>2</th>\n",
       "      <td>2017-03-14</td>\n",
       "      <td>0.178</td>\n",
       "      <td>53.5</td>\n",
       "    </tr>\n",
       "    <tr>\n",
       "      <th>3</th>\n",
       "      <td>2017-03-15</td>\n",
       "      <td>0.339</td>\n",
       "      <td>53.5</td>\n",
       "    </tr>\n",
       "    <tr>\n",
       "      <th>4</th>\n",
       "      <td>2017-03-16</td>\n",
       "      <td>0.373</td>\n",
       "      <td>53.4</td>\n",
       "    </tr>\n",
       "  </tbody>\n",
       "</table>\n",
       "</div>"
      ],
      "text/plain": [
       "        time     v1    v2\n",
       "0 2017-03-12 -0.109  53.8\n",
       "1 2017-03-13  0.000  53.6\n",
       "2 2017-03-14  0.178  53.5\n",
       "3 2017-03-15  0.339  53.5\n",
       "4 2017-03-16  0.373  53.4"
      ]
     },
     "execution_count": 39,
     "metadata": {},
     "output_type": "execute_result"
    }
   ],
   "source": [
    "multi_ts.to_dataframe().head()"
   ]
  },
  {
   "cell_type": "markdown",
   "id": "c9e57c32-accc-45e1-a38c-cdd0271e6ccf",
   "metadata": {},
   "source": [
    "### TimeSeriesData operations"
   ]
  },
  {
   "cell_type": "markdown",
   "id": "ab3a84ac-5bda-41a5-9d33-8b394cba9eca",
   "metadata": {},
   "source": [
    "Slicing"
   ]
  },
  {
   "cell_type": "code",
   "execution_count": 41,
   "id": "2a4abef2-73b7-4e43-beb9-10c1d14d51ea",
   "metadata": {},
   "outputs": [
    {
     "data": {
      "text/html": [
       "<div>\n",
       "<style scoped>\n",
       "    .dataframe tbody tr th:only-of-type {\n",
       "        vertical-align: middle;\n",
       "    }\n",
       "\n",
       "    .dataframe tbody tr th {\n",
       "        vertical-align: top;\n",
       "    }\n",
       "\n",
       "    .dataframe thead th {\n",
       "        text-align: right;\n",
       "    }\n",
       "</style>\n",
       "<table border=\"1\" class=\"dataframe\">\n",
       "  <thead>\n",
       "    <tr style=\"text-align: right;\">\n",
       "      <th></th>\n",
       "      <th>time</th>\n",
       "      <th>value</th>\n",
       "    </tr>\n",
       "  </thead>\n",
       "  <tbody>\n",
       "    <tr>\n",
       "      <th>0</th>\n",
       "      <td>1949-02-01</td>\n",
       "      <td>118</td>\n",
       "    </tr>\n",
       "    <tr>\n",
       "      <th>1</th>\n",
       "      <td>1949-03-01</td>\n",
       "      <td>132</td>\n",
       "    </tr>\n",
       "    <tr>\n",
       "      <th>2</th>\n",
       "      <td>1949-04-01</td>\n",
       "      <td>129</td>\n",
       "    </tr>\n",
       "    <tr>\n",
       "      <th>3</th>\n",
       "      <td>1949-05-01</td>\n",
       "      <td>121</td>\n",
       "    </tr>\n",
       "  </tbody>\n",
       "</table>\n",
       "</div>"
      ],
      "text/plain": [
       "        time  value\n",
       "0 1949-02-01    118\n",
       "1 1949-03-01    132\n",
       "2 1949-04-01    129\n",
       "3 1949-05-01    121"
      ]
     },
     "execution_count": 41,
     "metadata": {},
     "output_type": "execute_result"
    }
   ],
   "source": [
    "air_passengers_ts[1:5]"
   ]
  },
  {
   "cell_type": "markdown",
   "id": "0edf7e03-e374-4e9a-bcdf-d6e099431a91",
   "metadata": {},
   "source": [
    "Math operations"
   ]
  },
  {
   "cell_type": "code",
   "execution_count": 43,
   "id": "74ff5289-a556-4548-8950-9a9a596f0ca9",
   "metadata": {},
   "outputs": [
    {
     "data": {
      "text/html": [
       "<div>\n",
       "<style scoped>\n",
       "    .dataframe tbody tr th:only-of-type {\n",
       "        vertical-align: middle;\n",
       "    }\n",
       "\n",
       "    .dataframe tbody tr th {\n",
       "        vertical-align: top;\n",
       "    }\n",
       "\n",
       "    .dataframe thead th {\n",
       "        text-align: right;\n",
       "    }\n",
       "</style>\n",
       "<table border=\"1\" class=\"dataframe\">\n",
       "  <thead>\n",
       "    <tr style=\"text-align: right;\">\n",
       "      <th></th>\n",
       "      <th>time</th>\n",
       "      <th>value</th>\n",
       "    </tr>\n",
       "  </thead>\n",
       "  <tbody>\n",
       "    <tr>\n",
       "      <th>0</th>\n",
       "      <td>1949-02-01</td>\n",
       "      <td>236</td>\n",
       "    </tr>\n",
       "    <tr>\n",
       "      <th>1</th>\n",
       "      <td>1949-03-01</td>\n",
       "      <td>264</td>\n",
       "    </tr>\n",
       "    <tr>\n",
       "      <th>2</th>\n",
       "      <td>1949-04-01</td>\n",
       "      <td>258</td>\n",
       "    </tr>\n",
       "    <tr>\n",
       "      <th>3</th>\n",
       "      <td>1949-05-01</td>\n",
       "      <td>242</td>\n",
       "    </tr>\n",
       "  </tbody>\n",
       "</table>\n",
       "</div>"
      ],
      "text/plain": [
       "        time  value\n",
       "0 1949-02-01    236\n",
       "1 1949-03-01    264\n",
       "2 1949-04-01    258\n",
       "3 1949-05-01    242"
      ]
     },
     "execution_count": 43,
     "metadata": {},
     "output_type": "execute_result"
    }
   ],
   "source": [
    "air_passengers_ts[1:5] + air_passengers_ts[1:5]"
   ]
  },
  {
   "cell_type": "code",
   "execution_count": 44,
   "id": "827e22b4-3cdc-4fe1-8770-52febc7d0031",
   "metadata": {},
   "outputs": [
    {
     "data": {
      "text/plain": [
       "144"
      ]
     },
     "execution_count": 44,
     "metadata": {},
     "output_type": "execute_result"
    }
   ],
   "source": [
    "len(air_passengers_ts)"
   ]
  },
  {
   "cell_type": "markdown",
   "id": "415e00af-8ec4-48ce-b552-f02f022c9c11",
   "metadata": {},
   "source": [
    "Extend"
   ]
  },
  {
   "cell_type": "code",
   "execution_count": 51,
   "id": "a14cfd86-16ea-4b2c-8981-c162ec9f61b2",
   "metadata": {},
   "outputs": [],
   "source": [
    "ts_1 = air_passengers_ts[0:2]\n",
    "ts_1.extend(air_passengers_ts[2:5])"
   ]
  },
  {
   "cell_type": "code",
   "execution_count": 52,
   "id": "c5333ea8-d504-4125-b896-1b56ed8e0b6c",
   "metadata": {},
   "outputs": [
    {
     "data": {
      "text/html": [
       "<div>\n",
       "<style scoped>\n",
       "    .dataframe tbody tr th:only-of-type {\n",
       "        vertical-align: middle;\n",
       "    }\n",
       "\n",
       "    .dataframe tbody tr th {\n",
       "        vertical-align: top;\n",
       "    }\n",
       "\n",
       "    .dataframe thead th {\n",
       "        text-align: right;\n",
       "    }\n",
       "</style>\n",
       "<table border=\"1\" class=\"dataframe\">\n",
       "  <thead>\n",
       "    <tr style=\"text-align: right;\">\n",
       "      <th></th>\n",
       "      <th>time</th>\n",
       "      <th>value</th>\n",
       "    </tr>\n",
       "  </thead>\n",
       "  <tbody>\n",
       "    <tr>\n",
       "      <th>0</th>\n",
       "      <td>1949-01-01</td>\n",
       "      <td>112</td>\n",
       "    </tr>\n",
       "    <tr>\n",
       "      <th>1</th>\n",
       "      <td>1949-02-01</td>\n",
       "      <td>118</td>\n",
       "    </tr>\n",
       "    <tr>\n",
       "      <th>2</th>\n",
       "      <td>1949-03-01</td>\n",
       "      <td>132</td>\n",
       "    </tr>\n",
       "    <tr>\n",
       "      <th>3</th>\n",
       "      <td>1949-04-01</td>\n",
       "      <td>129</td>\n",
       "    </tr>\n",
       "    <tr>\n",
       "      <th>4</th>\n",
       "      <td>1949-05-01</td>\n",
       "      <td>121</td>\n",
       "    </tr>\n",
       "  </tbody>\n",
       "</table>\n",
       "</div>"
      ],
      "text/plain": [
       "        time  value\n",
       "0 1949-01-01    112\n",
       "1 1949-02-01    118\n",
       "2 1949-03-01    132\n",
       "3 1949-04-01    129\n",
       "4 1949-05-01    121"
      ]
     },
     "execution_count": 52,
     "metadata": {},
     "output_type": "execute_result"
    }
   ],
   "source": [
    "ts_1"
   ]
  },
  {
   "cell_type": "markdown",
   "id": "e2305acc-9ed3-4d89-8b40-91f3127cd93b",
   "metadata": {},
   "source": [
    "### Plotting"
   ]
  },
  {
   "cell_type": "code",
   "execution_count": 53,
   "id": "abba6cda-e044-4113-b179-07ca38751804",
   "metadata": {},
   "outputs": [
    {
     "data": {
      "image/png": "[encoded data removed]",
      "text/plain": [
       "<Figure size 720x432 with 1 Axes>"
      ]
     },
     "metadata": {},
     "output_type": "display_data"
    }
   ],
   "source": [
    "air_passengers_ts.plot(cols=['value'])"
   ]
  },
  {
   "cell_type": "code",
   "execution_count": 54,
   "id": "28161292-5109-44d5-a4fb-035fec41e627",
   "metadata": {},
   "outputs": [
    {
     "data": {
      "image/png": "[encoded data removed]",
      "text/plain": [
       "<Figure size 720x432 with 1 Axes>"
      ]
     },
     "metadata": {},
     "output_type": "display_data"
    }
   ],
   "source": [
    "multi_ts.plot(cols=['v1', 'v2'])"
   ]
  },
  {
   "cell_type": "markdown",
   "id": "fc473558-035e-465a-8c47-88aa238e5bf4",
   "metadata": {},
   "source": [
    "### Utility functions"
   ]
  },
  {
   "cell_type": "code",
   "execution_count": 55,
   "id": "db6c9e6f-7e71-418f-8b4a-631c2cc30075",
   "metadata": {},
   "outputs": [
    {
     "data": {
      "text/html": [
       "<div>\n",
       "<style scoped>\n",
       "    .dataframe tbody tr th:only-of-type {\n",
       "        vertical-align: middle;\n",
       "    }\n",
       "\n",
       "    .dataframe tbody tr th {\n",
       "        vertical-align: top;\n",
       "    }\n",
       "\n",
       "    .dataframe thead th {\n",
       "        text-align: right;\n",
       "    }\n",
       "</style>\n",
       "<table border=\"1\" class=\"dataframe\">\n",
       "  <thead>\n",
       "    <tr style=\"text-align: right;\">\n",
       "      <th></th>\n",
       "      <th>time</th>\n",
       "      <th>value</th>\n",
       "    </tr>\n",
       "  </thead>\n",
       "  <tbody>\n",
       "    <tr>\n",
       "      <th>0</th>\n",
       "      <td>1949-01-01</td>\n",
       "      <td>112</td>\n",
       "    </tr>\n",
       "    <tr>\n",
       "      <th>1</th>\n",
       "      <td>1949-02-01</td>\n",
       "      <td>118</td>\n",
       "    </tr>\n",
       "    <tr>\n",
       "      <th>2</th>\n",
       "      <td>1949-03-01</td>\n",
       "      <td>132</td>\n",
       "    </tr>\n",
       "    <tr>\n",
       "      <th>3</th>\n",
       "      <td>1949-04-01</td>\n",
       "      <td>129</td>\n",
       "    </tr>\n",
       "    <tr>\n",
       "      <th>4</th>\n",
       "      <td>1949-05-01</td>\n",
       "      <td>121</td>\n",
       "    </tr>\n",
       "  </tbody>\n",
       "</table>\n",
       "</div>"
      ],
      "text/plain": [
       "        time  value\n",
       "0 1949-01-01    112\n",
       "1 1949-02-01    118\n",
       "2 1949-03-01    132\n",
       "3 1949-04-01    129\n",
       "4 1949-05-01    121"
      ]
     },
     "execution_count": 55,
     "metadata": {},
     "output_type": "execute_result"
    }
   ],
   "source": [
    "air_passengers_ts.to_dataframe().head()"
   ]
  },
  {
   "cell_type": "code",
   "execution_count": 56,
   "id": "b5947147-d0f7-426b-93a2-8f6e227c2f10",
   "metadata": {},
   "outputs": [
    {
     "data": {
      "text/plain": [
       "array([[Timestamp('1949-01-01 00:00:00'), 112],\n",
       "       [Timestamp('1949-02-01 00:00:00'), 118],\n",
       "       [Timestamp('1949-03-01 00:00:00'), 132]], dtype=object)"
      ]
     },
     "execution_count": 56,
     "metadata": {},
     "output_type": "execute_result"
    }
   ],
   "source": [
    "air_passengers_ts.to_array()[0:3]"
   ]
  },
  {
   "cell_type": "code",
   "execution_count": 58,
   "id": "0c79be37-3a1a-4438-b3c4-5ab988551a9a",
   "metadata": {},
   "outputs": [
    {
     "data": {
      "text/plain": [
       "False"
      ]
     },
     "execution_count": 58,
     "metadata": {},
     "output_type": "execute_result"
    }
   ],
   "source": [
    "air_passengers_ts.is_empty()"
   ]
  },
  {
   "cell_type": "code",
   "execution_count": 59,
   "id": "d6f067c5-ff2f-475e-8c30-6aecdd854896",
   "metadata": {},
   "outputs": [
    {
     "data": {
      "text/plain": [
       "True"
      ]
     },
     "execution_count": 59,
     "metadata": {},
     "output_type": "execute_result"
    }
   ],
   "source": [
    "air_passengers_ts.is_univariate()"
   ]
  },
  {
   "cell_type": "code",
   "execution_count": 60,
   "id": "2b3601b3-8eae-4706-8519-63f5f1650127",
   "metadata": {},
   "outputs": [
    {
     "data": {
      "text/plain": [
       "False"
      ]
     },
     "execution_count": 60,
     "metadata": {},
     "output_type": "execute_result"
    }
   ],
   "source": [
    "multi_ts.is_univariate()"
   ]
  },
  {
   "cell_type": "markdown",
   "id": "ff2ef8f3-8f74-427d-9130-3c5502341c9f",
   "metadata": {},
   "source": [
    "## Forecasting"
   ]
  },
  {
   "cell_type": "code",
   "execution_count": 77,
   "id": "dd8652ad-7b55-482c-8d10-5f083f28d74f",
   "metadata": {},
   "outputs": [],
   "source": [
    "from kats.models.prophet import ProphetModel, ProphetParams"
   ]
  },
  {
   "cell_type": "markdown",
   "id": "a0459394-2f14-4f4f-871b-27d20812ce9f",
   "metadata": {},
   "source": [
    "### Example wth Prophet model"
   ]
  },
  {
   "cell_type": "code",
   "execution_count": 78,
   "id": "a2a822f1-ccb8-4224-8efc-ce346146b12d",
   "metadata": {},
   "outputs": [],
   "source": [
    "params = ProphetParams(seasonality_mode='multiplicative')"
   ]
  },
  {
   "cell_type": "code",
   "execution_count": 79,
   "id": "4f5dc173-50dc-4767-b7bc-b31af89995b7",
   "metadata": {},
   "outputs": [],
   "source": [
    "m = ProphetModel(air_passengers_ts, params)"
   ]
  },
  {
   "cell_type": "code",
   "execution_count": 80,
   "id": "2e2046c8-db42-49ef-a2bf-b33bf7aba8af",
   "metadata": {},
   "outputs": [
    {
     "name": "stderr",
     "output_type": "stream",
     "text": [
      "INFO:fbprophet:Disabling weekly seasonality. Run prophet with weekly_seasonality=True to override this.\n",
      "INFO:fbprophet:Disabling daily seasonality. Run prophet with daily_seasonality=True to override this.\n"
     ]
    },
    {
     "name": "stdout",
     "output_type": "stream",
     "text": [
      "Initial log joint probability = -2.46502\n",
      "    Iter      log prob        ||dx||      ||grad||       alpha      alpha0  # evals  Notes \n",
      "      99       501.449     0.0176543       240.422       0.649           1      137   \n",
      "    Iter      log prob        ||dx||      ||grad||       alpha      alpha0  # evals  Notes \n",
      "     199       503.353    0.00108498       90.0341      0.3062      0.3062      271   \n",
      "    Iter      log prob        ||dx||      ||grad||       alpha      alpha0  # evals  Notes \n",
      "     299       503.446   0.000140197        80.679           1           1      396   \n",
      "    Iter      log prob        ||dx||      ||grad||       alpha      alpha0  # evals  Notes \n",
      "     303       503.467   9.96247e-05       114.472   7.079e-07       0.001      451  LS failed, Hessian reset \n",
      "     359       503.486   8.82342e-09       72.6598    0.004982           1      538   \n",
      "Optimization terminated normally: \n",
      "  Convergence detected: absolute parameter change was below tolerance\n"
     ]
    }
   ],
   "source": [
    "m.fit()"
   ]
  },
  {
   "cell_type": "markdown",
   "id": "86d5fcc9-9744-4707-beb5-90e91bf5a5ff",
   "metadata": {},
   "source": [
    "Predict for the next 30 months"
   ]
  },
  {
   "cell_type": "code",
   "execution_count": 81,
   "id": "bf11f728-70ad-4620-afe3-eaeeebf2536e",
   "metadata": {},
   "outputs": [],
   "source": [
    "fcst = m.predict(steps=30, freq=\"MS\")"
   ]
  },
  {
   "cell_type": "code",
   "execution_count": 82,
   "id": "1fc6b9f4-d60e-491d-aea6-48e098d51112",
   "metadata": {},
   "outputs": [
    {
     "data": {
      "text/html": [
       "<div>\n",
       "<style scoped>\n",
       "    .dataframe tbody tr th:only-of-type {\n",
       "        vertical-align: middle;\n",
       "    }\n",
       "\n",
       "    .dataframe tbody tr th {\n",
       "        vertical-align: top;\n",
       "    }\n",
       "\n",
       "    .dataframe thead th {\n",
       "        text-align: right;\n",
       "    }\n",
       "</style>\n",
       "<table border=\"1\" class=\"dataframe\">\n",
       "  <thead>\n",
       "    <tr style=\"text-align: right;\">\n",
       "      <th></th>\n",
       "      <th>time</th>\n",
       "      <th>fcst</th>\n",
       "      <th>fcst_lower</th>\n",
       "      <th>fcst_upper</th>\n",
       "    </tr>\n",
       "  </thead>\n",
       "  <tbody>\n",
       "    <tr>\n",
       "      <th>0</th>\n",
       "      <td>1961-01-01</td>\n",
       "      <td>452.077721</td>\n",
       "      <td>437.980828</td>\n",
       "      <td>465.284626</td>\n",
       "    </tr>\n",
       "    <tr>\n",
       "      <th>1</th>\n",
       "      <td>1961-02-01</td>\n",
       "      <td>433.529496</td>\n",
       "      <td>420.609849</td>\n",
       "      <td>446.021569</td>\n",
       "    </tr>\n",
       "    <tr>\n",
       "      <th>2</th>\n",
       "      <td>1961-03-01</td>\n",
       "      <td>492.499917</td>\n",
       "      <td>479.291733</td>\n",
       "      <td>505.668907</td>\n",
       "    </tr>\n",
       "    <tr>\n",
       "      <th>3</th>\n",
       "      <td>1961-04-01</td>\n",
       "      <td>495.895518</td>\n",
       "      <td>482.923547</td>\n",
       "      <td>509.474623</td>\n",
       "    </tr>\n",
       "    <tr>\n",
       "      <th>4</th>\n",
       "      <td>1961-05-01</td>\n",
       "      <td>504.532773</td>\n",
       "      <td>491.901786</td>\n",
       "      <td>517.277023</td>\n",
       "    </tr>\n",
       "  </tbody>\n",
       "</table>\n",
       "</div>"
      ],
      "text/plain": [
       "        time        fcst  fcst_lower  fcst_upper\n",
       "0 1961-01-01  452.077721  437.980828  465.284626\n",
       "1 1961-02-01  433.529496  420.609849  446.021569\n",
       "2 1961-03-01  492.499917  479.291733  505.668907\n",
       "3 1961-04-01  495.895518  482.923547  509.474623\n",
       "4 1961-05-01  504.532773  491.901786  517.277023"
      ]
     },
     "execution_count": 82,
     "metadata": {},
     "output_type": "execute_result"
    }
   ],
   "source": [
    "fcst.head()"
   ]
  },
  {
   "cell_type": "markdown",
   "id": "2ab68a3c-4342-48fb-a2bd-3960d8ef5f63",
   "metadata": {},
   "source": [
    "Plot with uncertainty intervals"
   ]
  },
  {
   "cell_type": "code",
   "execution_count": 84,
   "id": "67f85864-45ad-47ed-a2ac-e94b66d88515",
   "metadata": {},
   "outputs": [
    {
     "data": {
      "image/png": "[encoded data removed]",
      "text/plain": [
       "<Figure size 720x432 with 1 Axes>"
      ]
     },
     "metadata": {},
     "output_type": "display_data"
    }
   ],
   "source": [
    "m.plot()"
   ]
  },
  {
   "cell_type": "markdown",
   "id": "9fcdb1e3-e2fc-47fb-9ca5-38b22fdfa157",
   "metadata": {},
   "source": [
    "## Detection"
   ]
  },
  {
   "cell_type": "markdown",
   "id": "1cfa179b-abf2-46b6-8f91-27422cec5563",
   "metadata": {},
   "source": [
    "### Outlier detection"
   ]
  },
  {
   "cell_type": "code",
   "execution_count": 86,
   "id": "ca8d1b5e-2684-43d4-8909-e26f105956e1",
   "metadata": {},
   "outputs": [],
   "source": [
    "air_passengers_outlier_df = air_passengers_df.copy(deep=True)"
   ]
  },
  {
   "cell_type": "code",
   "execution_count": 88,
   "id": "11b3865d-a618-4dd5-99c5-ac0127364b35",
   "metadata": {},
   "outputs": [],
   "source": [
    "air_passengers_outlier_df.loc[\n",
    "    air_passengers_outlier_df.time == '1950-12-01', 'value'] *= 5"
   ]
  },
  {
   "cell_type": "code",
   "execution_count": 89,
   "id": "37a04e6d-915c-4d5c-b76b-33df9303d685",
   "metadata": {},
   "outputs": [],
   "source": [
    "air_passengers_outlier_df.loc[\n",
    "    air_passengers_outlier_df.time == '1959-12-01', 'value'] *= 4"
   ]
  },
  {
   "cell_type": "code",
   "execution_count": 91,
   "id": "5c0e4fee-dc73-4e1e-8bd0-912bc18af12d",
   "metadata": {},
   "outputs": [
    {
     "data": {
      "text/plain": [
       "<AxesSubplot:>"
      ]
     },
     "execution_count": 91,
     "metadata": {},
     "output_type": "execute_result"
    },
    {
     "data": {
      "image/png": "[encoded data removed]",
      "text/plain": [
       "<Figure size 432x288 with 1 Axes>"
      ]
     },
     "metadata": {
      "needs_background": "light"
     },
     "output_type": "display_data"
    }
   ],
   "source": [
    "air_passengers_outlier_df.plot()"
   ]
  },
  {
   "cell_type": "code",
   "execution_count": 92,
   "id": "cb255813-ef3d-4996-b2c6-f155e3693de9",
   "metadata": {},
   "outputs": [],
   "source": [
    "air_passengers_outlier_ts = TimeSeriesData(air_passengers_outlier_df)"
   ]
  },
  {
   "cell_type": "code",
   "execution_count": 93,
   "id": "c537a902-0b41-41fb-ad81-c0c65740f1b8",
   "metadata": {},
   "outputs": [],
   "source": [
    "from kats.detectors.outlier import OutlierDetector"
   ]
  },
  {
   "cell_type": "code",
   "execution_count": 94,
   "id": "ef795b3c-298f-4ab5-a314-f00205bbfc98",
   "metadata": {},
   "outputs": [],
   "source": [
    "ts_outlierDetection = OutlierDetector(\n",
    "    air_passengers_outlier_ts, 'additive')\n",
    "ts_outlierDetection.detector()"
   ]
  },
  {
   "cell_type": "code",
   "execution_count": 97,
   "id": "85b7530a-6fee-428d-9382-bcfc48015452",
   "metadata": {},
   "outputs": [
    {
     "data": {
      "text/plain": [
       "[Timestamp('1950-12-01 00:00:00'),\n",
       " Timestamp('1959-11-01 00:00:00'),\n",
       " Timestamp('1959-12-01 00:00:00')]"
      ]
     },
     "execution_count": 97,
     "metadata": {},
     "output_type": "execute_result"
    }
   ],
   "source": [
    "ts_outlierDetection.outliers[0]"
   ]
  },
  {
   "cell_type": "markdown",
   "id": "4426e467-b6fe-413f-bd33-85db72a20dc7",
   "metadata": {},
   "source": [
    "### Changepoint detection"
   ]
  },
  {
   "cell_type": "markdown",
   "id": "7794e51d-ee23-4587-a08b-77991a602138",
   "metadata": {},
   "source": [
    "Using the CUSUM algorithm with log likelihood ratio test to detect a change in the mean of the time series"
   ]
  },
  {
   "cell_type": "code",
   "execution_count": 99,
   "id": "90ad83a6-07f8-4182-b442-f648dfbe53bb",
   "metadata": {},
   "outputs": [],
   "source": [
    "from kats.detectors.cusum_detection import CUSUMDetector"
   ]
  },
  {
   "cell_type": "code",
   "execution_count": 100,
   "id": "aa403c67-9010-4473-bf4d-4824c945f8ac",
   "metadata": {},
   "outputs": [],
   "source": [
    "df = pd.DataFrame({\n",
    "    'time': pd.date_range('2019-01-01', '2019-03-01'),\n",
    "    'increase': np.concatenate([\n",
    "        np.random.normal(1, 0.2, 30), np.random.normal(2, 0.2, 30)]),\n",
    "    'decrease': np.concatenate([\n",
    "        np.random.normal(1, 0.3, 50), np.random.normal(0.5, 0.3, 10)])\n",
    "})  "
   ]
  },
  {
   "cell_type": "code",
   "execution_count": 103,
   "id": "2770d9bd-581e-45b0-9ef4-4089360eae1e",
   "metadata": {},
   "outputs": [
    {
     "data": {
      "image/png": "[encoded data removed]",
      "text/plain": [
       "<Figure size 432x288 with 1 Axes>"
      ]
     },
     "metadata": {
      "needs_background": "light"
     },
     "output_type": "display_data"
    }
   ],
   "source": [
    "timeseries = TimeSeriesData(df.loc[:, ['time', 'increase']])\n",
    "detector = CUSUMDetector(timeseries)\n",
    "change_points = detector.detector(change_directions=[\"increase\"])\n",
    "\n",
    "plt.xticks(rotation=45)\n",
    "detector.plot(change_points)\n",
    "plt.show()"
   ]
  },
  {
   "cell_type": "code",
   "execution_count": 105,
   "id": "e066716b-67b5-43eb-8c0b-7774dc96edc0",
   "metadata": {},
   "outputs": [
    {
     "name": "stderr",
     "output_type": "stream",
     "text": [
      "WARNING:root:No change points detected!\n"
     ]
    },
    {
     "data": {
      "image/png": "[encoded data removed]",
      "text/plain": [
       "<Figure size 432x288 with 1 Axes>"
      ]
     },
     "metadata": {
      "needs_background": "light"
     },
     "output_type": "display_data"
    }
   ],
   "source": [
    "timeseries = TimeSeriesData(df.loc[:, ['time', 'decrease']])\n",
    "detector = CUSUMDetector(timeseries)\n",
    "change_points = detector.detector(change_directions=[\"decrease\"])\n",
    "\n",
    "plt.xticks(rotation=45)\n",
    "detector.plot(change_points)\n",
    "plt.show()"
   ]
  },
  {
   "cell_type": "code",
   "execution_count": null,
   "id": "c1f458d8-912a-435b-a280-285d0e7cae17",
   "metadata": {},
   "outputs": [],
   "source": []
  }
 ],
 "metadata": {
  "kernelspec": {
   "display_name": "Python 3 (ipykernel)",
   "language": "python",
   "name": "python3"
  },
  "language_info": {
   "codemirror_mode": {
    "name": "ipython",
    "version": 3
   },
   "file_extension": ".py",
   "mimetype": "text/x-python",
   "name": "python",
   "nbconvert_exporter": "python",
   "pygments_lexer": "ipython3",
   "version": "3.8.10"
  }
 },
 "nbformat": 4,
 "nbformat_minor": 5
}
