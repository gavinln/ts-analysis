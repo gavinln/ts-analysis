{
 "cells": [
  {
   "cell_type": "markdown",
   "id": "5ffe7ce8-32a0-4185-9737-0a884dc14480",
   "metadata": {},
   "source": [
    "# Dates and times"
   ]
  },
  {
   "cell_type": "code",
   "execution_count": 2,
   "id": "0dde23b9-ab9b-4b87-bbf5-8a100a2872fa",
   "metadata": {
    "execution": {
     "iopub.execute_input": "2021-06-11T22:40:28.824210Z",
     "iopub.status.busy": "2021-06-11T22:40:28.823982Z",
     "iopub.status.idle": "2021-06-11T22:40:29.370022Z",
     "shell.execute_reply": "2021-06-11T22:40:29.369446Z",
     "shell.execute_reply.started": "2021-06-11T22:40:28.824185Z"
    },
    "tags": []
   },
   "outputs": [],
   "source": [
    "import pandas as pd"
   ]
  },
  {
   "cell_type": "markdown",
   "id": "00bac291-2681-4e5c-a471-62563589aab7",
   "metadata": {},
   "source": [
    "### Generate series of times"
   ]
  },
  {
   "cell_type": "code",
   "execution_count": 5,
   "id": "d986be14-7ced-4d9d-85ff-e35c1068a8c7",
   "metadata": {
    "execution": {
     "iopub.execute_input": "2021-06-11T22:41:36.366320Z",
     "iopub.status.busy": "2021-06-11T22:41:36.366092Z",
     "iopub.status.idle": "2021-06-11T22:41:36.372053Z",
     "shell.execute_reply": "2021-06-11T22:41:36.371403Z",
     "shell.execute_reply.started": "2021-06-11T22:41:36.366294Z"
    },
    "tags": []
   },
   "outputs": [
    {
     "data": {
      "text/plain": [
       "DatetimeIndex(['2021-06-30 10:15:00', '2021-07-31 10:15:00',\n",
       "               '2021-08-31 10:15:00'],\n",
       "              dtype='datetime64[ns]', freq='M')"
      ]
     },
     "execution_count": 5,
     "metadata": {},
     "output_type": "execute_result"
    }
   ],
   "source": [
    "time_range = pd.date_range('2021-06-01 10:15', periods=3, freq='M')\n",
    "time_range"
   ]
  },
  {
   "cell_type": "markdown",
   "id": "9c0567ca-8d44-4797-b0d0-0e69c289b7e2",
   "metadata": {},
   "source": [
    "## Timestamps"
   ]
  },
  {
   "cell_type": "code",
   "execution_count": 6,
   "id": "47c0a06a-6c3c-4ee3-a5eb-0cb7ebd6173b",
   "metadata": {
    "execution": {
     "iopub.execute_input": "2021-06-11T22:44:28.770299Z",
     "iopub.status.busy": "2021-06-11T22:44:28.770057Z",
     "iopub.status.idle": "2021-06-11T22:44:28.774994Z",
     "shell.execute_reply": "2021-06-11T22:44:28.774150Z",
     "shell.execute_reply.started": "2021-06-11T22:44:28.770273Z"
    }
   },
   "outputs": [
    {
     "data": {
      "text/plain": [
       "Timestamp('2021-06-05 00:00:00')"
      ]
     },
     "execution_count": 6,
     "metadata": {},
     "output_type": "execute_result"
    }
   ],
   "source": [
    "pd.Timestamp('2021-06-05')"
   ]
  },
  {
   "cell_type": "markdown",
   "id": "51e2a56e-3866-496e-a9bb-4d13313e3bb9",
   "metadata": {},
   "source": [
    "## Time offsets"
   ]
  },
  {
   "cell_type": "code",
   "execution_count": 9,
   "id": "8949c3d2-91c0-4532-a03f-d99e76e9d242",
   "metadata": {
    "execution": {
     "iopub.execute_input": "2021-06-11T22:49:06.683852Z",
     "iopub.status.busy": "2021-06-11T22:49:06.683631Z",
     "iopub.status.idle": "2021-06-11T22:49:06.687713Z",
     "shell.execute_reply": "2021-06-11T22:49:06.687147Z",
     "shell.execute_reply.started": "2021-06-11T22:49:06.683828Z"
    },
    "tags": []
   },
   "outputs": [
    {
     "data": {
      "text/plain": [
       "Timedelta('1 days 00:00:00.000001')"
      ]
     },
     "execution_count": 9,
     "metadata": {},
     "output_type": "execute_result"
    }
   ],
   "source": [
    "pd.Timedelta('1 day 1us')"
   ]
  },
  {
   "cell_type": "markdown",
   "id": "29db6466-d3c6-4faa-a1da-f54975f1ee02",
   "metadata": {},
   "source": [
    "## Time spans"
   ]
  },
  {
   "cell_type": "code",
   "execution_count": 19,
   "id": "096dab55-2c51-4009-a138-621661c344d0",
   "metadata": {
    "execution": {
     "iopub.execute_input": "2021-06-11T22:53:10.634117Z",
     "iopub.status.busy": "2021-06-11T22:53:10.633901Z",
     "iopub.status.idle": "2021-06-11T22:53:10.638957Z",
     "shell.execute_reply": "2021-06-11T22:53:10.638393Z",
     "shell.execute_reply.started": "2021-06-11T22:53:10.634093Z"
    },
    "tags": []
   },
   "outputs": [
    {
     "data": {
      "text/plain": [
       "True"
      ]
     },
     "execution_count": 19,
     "metadata": {},
     "output_type": "execute_result"
    }
   ],
   "source": [
    "p = pd.Period('2020-05')\n",
    "t = pd.Timestamp('2020-05-13')\n",
    "p.start_time < t < p.end_time"
   ]
  },
  {
   "cell_type": "code",
   "execution_count": 26,
   "id": "19a7ac7d-c018-49ba-9510-a13e1fdd5f92",
   "metadata": {
    "execution": {
     "iopub.execute_input": "2021-06-11T22:56:45.774668Z",
     "iopub.status.busy": "2021-06-11T22:56:45.774435Z",
     "iopub.status.idle": "2021-06-11T22:56:45.779899Z",
     "shell.execute_reply": "2021-06-11T22:56:45.779140Z",
     "shell.execute_reply.started": "2021-06-11T22:56:45.774641Z"
    },
    "tags": []
   },
   "outputs": [
    {
     "data": {
      "text/plain": [
       "PeriodIndex(['2021-06-01 10:15', '2021-06-01 10:16', '2021-06-01 10:17'], dtype='period[T]', freq='T')"
      ]
     },
     "execution_count": 26,
     "metadata": {},
     "output_type": "execute_result"
    }
   ],
   "source": [
    "period_range = pd.period_range('2021-06-01 10:15', periods=3, freq='T')\n",
    "period_range"
   ]
  },
  {
   "cell_type": "markdown",
   "id": "1ba42e9f-8828-4b1a-a6cc-d600949e228d",
   "metadata": {},
   "source": [
    "## Time series vs period series"
   ]
  },
  {
   "cell_type": "code",
   "execution_count": 33,
   "id": "77fab1a6-e9a4-4190-b4b3-50ac68d8bd97",
   "metadata": {
    "execution": {
     "iopub.execute_input": "2021-06-11T23:01:01.473215Z",
     "iopub.status.busy": "2021-06-11T23:01:01.472982Z",
     "iopub.status.idle": "2021-06-11T23:01:01.476686Z",
     "shell.execute_reply": "2021-06-11T23:01:01.475934Z",
     "shell.execute_reply.started": "2021-06-11T23:01:01.473189Z"
    },
    "tags": []
   },
   "outputs": [],
   "source": [
    "time_series = pd.Series(range(len(time_range)), index=time_range)"
   ]
  },
  {
   "cell_type": "code",
   "execution_count": 36,
   "id": "51ed410f-5644-4027-a347-0c824fb3d6eb",
   "metadata": {
    "execution": {
     "iopub.execute_input": "2021-06-11T23:01:21.490542Z",
     "iopub.status.busy": "2021-06-11T23:01:21.490309Z",
     "iopub.status.idle": "2021-06-11T23:01:21.495601Z",
     "shell.execute_reply": "2021-06-11T23:01:21.494989Z",
     "shell.execute_reply.started": "2021-06-11T23:01:21.490516Z"
    },
    "tags": []
   },
   "outputs": [
    {
     "data": {
      "text/plain": [
       "2021-06-30 10:15:00    0\n",
       "2021-07-31 10:15:00    1\n",
       "2021-08-31 10:15:00    2\n",
       "Freq: M, dtype: int64"
      ]
     },
     "execution_count": 36,
     "metadata": {},
     "output_type": "execute_result"
    }
   ],
   "source": [
    "time_series"
   ]
  },
  {
   "cell_type": "code",
   "execution_count": 37,
   "id": "4c34d12e-3f83-4d72-b02f-c16bc24fb2d8",
   "metadata": {
    "execution": {
     "iopub.execute_input": "2021-06-11T23:01:21.930197Z",
     "iopub.status.busy": "2021-06-11T23:01:21.929965Z",
     "iopub.status.idle": "2021-06-11T23:01:21.933888Z",
     "shell.execute_reply": "2021-06-11T23:01:21.933117Z",
     "shell.execute_reply.started": "2021-06-11T23:01:21.930171Z"
    },
    "tags": []
   },
   "outputs": [],
   "source": [
    "period_series = pd.Series(range(len(period_range)), index=period_range)"
   ]
  },
  {
   "cell_type": "code",
   "execution_count": 38,
   "id": "5463c318-348f-4ea4-8486-df701d38aa4c",
   "metadata": {
    "execution": {
     "iopub.execute_input": "2021-06-11T23:01:22.291965Z",
     "iopub.status.busy": "2021-06-11T23:01:22.291738Z",
     "iopub.status.idle": "2021-06-11T23:01:22.297067Z",
     "shell.execute_reply": "2021-06-11T23:01:22.296387Z",
     "shell.execute_reply.started": "2021-06-11T23:01:22.291940Z"
    },
    "tags": []
   },
   "outputs": [
    {
     "data": {
      "text/plain": [
       "2021-06-01 10:15    0\n",
       "2021-06-01 10:16    1\n",
       "2021-06-01 10:17    2\n",
       "Freq: T, dtype: int64"
      ]
     },
     "execution_count": 38,
     "metadata": {},
     "output_type": "execute_result"
    }
   ],
   "source": [
    "period_series"
   ]
  },
  {
   "cell_type": "code",
   "execution_count": 39,
   "id": "622e0185-d254-40e4-860e-f170a70844e3",
   "metadata": {
    "execution": {
     "iopub.execute_input": "2021-06-11T23:01:24.311538Z",
     "iopub.status.busy": "2021-06-11T23:01:24.311305Z",
     "iopub.status.idle": "2021-06-11T23:01:24.316387Z",
     "shell.execute_reply": "2021-06-11T23:01:24.315579Z",
     "shell.execute_reply.started": "2021-06-11T23:01:24.311511Z"
    },
    "tags": []
   },
   "outputs": [
    {
     "data": {
      "text/plain": [
       "2"
      ]
     },
     "execution_count": 39,
     "metadata": {},
     "output_type": "execute_result"
    }
   ],
   "source": [
    "period_series['2021-06-01 10:17']"
   ]
  },
  {
   "cell_type": "markdown",
   "id": "96935809-386c-4941-9800-615620d11dee",
   "metadata": {},
   "source": [
    "### Convert time series to period series and vice-versa"
   ]
  },
  {
   "cell_type": "code",
   "execution_count": 40,
   "id": "d80970fe-074a-4836-8238-0eda6c676cc1",
   "metadata": {
    "execution": {
     "iopub.execute_input": "2021-06-11T23:01:53.944269Z",
     "iopub.status.busy": "2021-06-11T23:01:53.944033Z",
     "iopub.status.idle": "2021-06-11T23:01:53.950030Z",
     "shell.execute_reply": "2021-06-11T23:01:53.949196Z",
     "shell.execute_reply.started": "2021-06-11T23:01:53.944242Z"
    }
   },
   "outputs": [
    {
     "data": {
      "text/plain": [
       "2021-06    0\n",
       "2021-07    1\n",
       "2021-08    2\n",
       "Freq: M, dtype: int64"
      ]
     },
     "execution_count": 40,
     "metadata": {},
     "output_type": "execute_result"
    }
   ],
   "source": [
    "time_series.to_period()"
   ]
  },
  {
   "cell_type": "code",
   "execution_count": 41,
   "id": "d810810b-d78e-47f5-8632-5bc6bb71be77",
   "metadata": {
    "execution": {
     "iopub.execute_input": "2021-06-11T23:02:02.059839Z",
     "iopub.status.busy": "2021-06-11T23:02:02.059602Z",
     "iopub.status.idle": "2021-06-11T23:02:02.066245Z",
     "shell.execute_reply": "2021-06-11T23:02:02.065429Z",
     "shell.execute_reply.started": "2021-06-11T23:02:02.059813Z"
    }
   },
   "outputs": [
    {
     "data": {
      "text/plain": [
       "2021-06-01 10:15:00    0\n",
       "2021-06-01 10:16:00    1\n",
       "2021-06-01 10:17:00    2\n",
       "Freq: T, dtype: int64"
      ]
     },
     "execution_count": 41,
     "metadata": {},
     "output_type": "execute_result"
    }
   ],
   "source": [
    "period_series.to_timestamp()"
   ]
  },
  {
   "cell_type": "markdown",
   "id": "e188b13b-1194-48d1-8008-0555ac5cbb7a",
   "metadata": {},
   "source": [
    "## Pandas time zone"
   ]
  },
  {
   "cell_type": "code",
   "execution_count": 42,
   "id": "f4a8883f-d1ed-4e18-8c9f-49120956c79d",
   "metadata": {
    "execution": {
     "iopub.execute_input": "2021-06-11T23:09:14.131108Z",
     "iopub.status.busy": "2021-06-11T23:09:14.130873Z",
     "iopub.status.idle": "2021-06-11T23:09:14.135979Z",
     "shell.execute_reply": "2021-06-11T23:09:14.135398Z",
     "shell.execute_reply.started": "2021-06-11T23:09:14.131083Z"
    }
   },
   "outputs": [
    {
     "data": {
      "text/plain": [
       "DatetimeIndex(['2020-06-01', '2020-06-02', '2020-06-03'], dtype='datetime64[ns]', freq='D')"
      ]
     },
     "execution_count": 42,
     "metadata": {},
     "output_type": "execute_result"
    }
   ],
   "source": [
    "date_range_notz = pd.date_range('2020-06-01', periods=3, freq='d')\n",
    "date_range_notz"
   ]
  },
  {
   "cell_type": "code",
   "execution_count": 43,
   "id": "83a55ea4-2d5e-4596-a4d2-430d8cc3c03b",
   "metadata": {
    "execution": {
     "iopub.execute_input": "2021-06-11T23:09:54.290659Z",
     "iopub.status.busy": "2021-06-11T23:09:54.290424Z",
     "iopub.status.idle": "2021-06-11T23:09:54.332719Z",
     "shell.execute_reply": "2021-06-11T23:09:54.332225Z",
     "shell.execute_reply.started": "2021-06-11T23:09:54.290633Z"
    }
   },
   "outputs": [],
   "source": [
    "date_range_tz = pd.date_range('2020-06-01', periods=3, freq='d',\n",
    "                              tz='Europe/London')"
   ]
  },
  {
   "cell_type": "code",
   "execution_count": 44,
   "id": "e352a6a0-d0e5-42f4-bee4-ba663c40c420",
   "metadata": {
    "execution": {
     "iopub.execute_input": "2021-06-11T23:10:06.182480Z",
     "iopub.status.busy": "2021-06-11T23:10:06.182242Z",
     "iopub.status.idle": "2021-06-11T23:10:06.187359Z",
     "shell.execute_reply": "2021-06-11T23:10:06.186650Z",
     "shell.execute_reply.started": "2021-06-11T23:10:06.182453Z"
    }
   },
   "outputs": [
    {
     "data": {
      "text/plain": [
       "(DatetimeIndex(['2020-06-01', '2020-06-02', '2020-06-03'], dtype='datetime64[ns]', freq='D'),\n",
       " DatetimeIndex(['2020-06-01 00:00:00+01:00', '2020-06-02 00:00:00+01:00',\n",
       "                '2020-06-03 00:00:00+01:00'],\n",
       "               dtype='datetime64[ns, Europe/London]', freq='D'))"
      ]
     },
     "execution_count": 44,
     "metadata": {},
     "output_type": "execute_result"
    }
   ],
   "source": [
    "date_range_notz, date_range_tz"
   ]
  },
  {
   "cell_type": "markdown",
   "id": "e5070516-c29f-4b7e-9e37-a8e749d5656e",
   "metadata": {},
   "source": [
    "## List of time zones"
   ]
  },
  {
   "cell_type": "code",
   "execution_count": 45,
   "id": "940609b0-a3b8-4391-829f-99c460e3acb6",
   "metadata": {
    "execution": {
     "iopub.execute_input": "2021-06-11T23:18:47.837943Z",
     "iopub.status.busy": "2021-06-11T23:18:47.837704Z",
     "iopub.status.idle": "2021-06-11T23:18:47.841321Z",
     "shell.execute_reply": "2021-06-11T23:18:47.840540Z",
     "shell.execute_reply.started": "2021-06-11T23:18:47.837917Z"
    }
   },
   "outputs": [],
   "source": [
    "from pytz import common_timezones, all_timezones"
   ]
  },
  {
   "cell_type": "code",
   "execution_count": 47,
   "id": "e98a88e6-4f42-46e4-9f77-150d238e9274",
   "metadata": {
    "execution": {
     "iopub.execute_input": "2021-06-11T23:19:16.487786Z",
     "iopub.status.busy": "2021-06-11T23:19:16.487585Z",
     "iopub.status.idle": "2021-06-11T23:19:16.491822Z",
     "shell.execute_reply": "2021-06-11T23:19:16.491304Z",
     "shell.execute_reply.started": "2021-06-11T23:19:16.487765Z"
    },
    "tags": []
   },
   "outputs": [
    {
     "data": {
      "text/plain": [
       "(439, 593)"
      ]
     },
     "execution_count": 47,
     "metadata": {},
     "output_type": "execute_result"
    }
   ],
   "source": [
    "len(common_timezones), len(all_timezones)"
   ]
  },
  {
   "cell_type": "markdown",
   "id": "97b84798-2675-4414-8035-d6a1e438dab6",
   "metadata": {},
   "source": [
    "## Localize a timestamp"
   ]
  },
  {
   "cell_type": "code",
   "execution_count": 54,
   "id": "39dcc88d-348a-48fa-b79b-e7157a22394a",
   "metadata": {
    "execution": {
     "iopub.execute_input": "2021-06-11T23:22:39.318850Z",
     "iopub.status.busy": "2021-06-11T23:22:39.318621Z",
     "iopub.status.idle": "2021-06-11T23:22:39.323349Z",
     "shell.execute_reply": "2021-06-11T23:22:39.322716Z",
     "shell.execute_reply.started": "2021-06-11T23:22:39.318824Z"
    },
    "tags": []
   },
   "outputs": [
    {
     "data": {
      "text/plain": [
       "Timestamp('2020-06-01 03:15:00')"
      ]
     },
     "execution_count": 54,
     "metadata": {},
     "output_type": "execute_result"
    }
   ],
   "source": [
    "t_naive = pd.Timestamp('2020-06-01 03:15')\n",
    "t_naive"
   ]
  },
  {
   "cell_type": "code",
   "execution_count": 55,
   "id": "8839315f-49e6-4321-9547-9016066a7520",
   "metadata": {
    "execution": {
     "iopub.execute_input": "2021-06-11T23:22:39.850059Z",
     "iopub.status.busy": "2021-06-11T23:22:39.849828Z",
     "iopub.status.idle": "2021-06-11T23:22:39.853421Z",
     "shell.execute_reply": "2021-06-11T23:22:39.852559Z",
     "shell.execute_reply.started": "2021-06-11T23:22:39.850034Z"
    },
    "tags": []
   },
   "outputs": [],
   "source": [
    "t = t_naive.tz_localize(tz='US/Central')"
   ]
  },
  {
   "cell_type": "code",
   "execution_count": 56,
   "id": "6b22551e-b10d-41b0-90a7-4249ca0c5e27",
   "metadata": {
    "execution": {
     "iopub.execute_input": "2021-06-11T23:22:45.295100Z",
     "iopub.status.busy": "2021-06-11T23:22:45.294861Z",
     "iopub.status.idle": "2021-06-11T23:22:45.300114Z",
     "shell.execute_reply": "2021-06-11T23:22:45.299442Z",
     "shell.execute_reply.started": "2021-06-11T23:22:45.295074Z"
    }
   },
   "outputs": [
    {
     "data": {
      "text/plain": [
       "Timestamp('2020-06-01 03:15:00-0500', tz='US/Central')"
      ]
     },
     "execution_count": 56,
     "metadata": {},
     "output_type": "execute_result"
    }
   ],
   "source": [
    "t"
   ]
  },
  {
   "cell_type": "code",
   "execution_count": 57,
   "id": "8aa964c1-0e8f-4d25-bdc3-b3c35b40e4be",
   "metadata": {
    "execution": {
     "iopub.execute_input": "2021-06-11T23:22:48.742435Z",
     "iopub.status.busy": "2021-06-11T23:22:48.742199Z",
     "iopub.status.idle": "2021-06-11T23:22:48.747261Z",
     "shell.execute_reply": "2021-06-11T23:22:48.746620Z",
     "shell.execute_reply.started": "2021-06-11T23:22:48.742410Z"
    },
    "tags": []
   },
   "outputs": [
    {
     "data": {
      "text/plain": [
       "Timestamp('2020-06-01 01:15:00-0700', tz='US/Pacific')"
      ]
     },
     "execution_count": 57,
     "metadata": {},
     "output_type": "execute_result"
    }
   ],
   "source": [
    "t.tz_convert(tz='US/Pacific')"
   ]
  },
  {
   "cell_type": "code",
   "execution_count": 61,
   "id": "caf64020-cb57-4659-89bf-ae937485d57a",
   "metadata": {
    "execution": {
     "iopub.execute_input": "2021-06-11T23:25:07.124275Z",
     "iopub.status.busy": "2021-06-11T23:25:07.124036Z",
     "iopub.status.idle": "2021-06-11T23:25:07.126960Z",
     "shell.execute_reply": "2021-06-11T23:25:07.126196Z",
     "shell.execute_reply.started": "2021-06-11T23:25:07.124249Z"
    },
    "tags": []
   },
   "outputs": [],
   "source": [
    "# t.tz_localize(tz='US/Pacific')  # error: use tz_convert"
   ]
  },
  {
   "cell_type": "code",
   "execution_count": 62,
   "id": "5e15d860-c25f-4766-835b-ae6daf28de6e",
   "metadata": {
    "execution": {
     "iopub.execute_input": "2021-06-11T23:25:17.296575Z",
     "iopub.status.busy": "2021-06-11T23:25:17.296343Z",
     "iopub.status.idle": "2021-06-11T23:25:17.299589Z",
     "shell.execute_reply": "2021-06-11T23:25:17.298706Z",
     "shell.execute_reply.started": "2021-06-11T23:25:17.296548Z"
    },
    "tags": []
   },
   "outputs": [],
   "source": [
    "# t_naive.tz_convert(tz='US/Pacific')  # error: use tz_localize"
   ]
  }
 ],
 "metadata": {
  "kernelspec": {
   "display_name": "Python 3",
   "language": "python",
   "name": "python3"
  },
  "language_info": {
   "codemirror_mode": {
    "name": "ipython",
    "version": 3
   },
   "file_extension": ".py",
   "mimetype": "text/x-python",
   "name": "python",
   "nbconvert_exporter": "python",
   "pygments_lexer": "ipython3",
   "version": "3.8.3"
  }
 },
 "nbformat": 4,
 "nbformat_minor": 5
}
