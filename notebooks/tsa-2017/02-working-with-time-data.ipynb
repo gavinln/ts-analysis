{
 "cells": [
  {
   "cell_type": "markdown",
   "id": "5ffe7ce8-32a0-4185-9737-0a884dc14480",
   "metadata": {},
   "source": [
    "# Working with time data"
   ]
  },
  {
   "cell_type": "code",
   "execution_count": 1,
   "id": "0dde23b9-ab9b-4b87-bbf5-8a100a2872fa",
   "metadata": {
    "execution": {
     "iopub.execute_input": "2021-06-11T23:36:38.876522Z",
     "iopub.status.busy": "2021-06-11T23:36:38.876257Z",
     "iopub.status.idle": "2021-06-11T23:36:39.112561Z",
     "shell.execute_reply": "2021-06-11T23:36:39.111853Z",
     "shell.execute_reply.started": "2021-06-11T23:36:38.876459Z"
    },
    "tags": []
   },
   "outputs": [],
   "source": [
    "import pandas as pd"
   ]
  },
  {
   "cell_type": "markdown",
   "id": "030db282-3cf1-42cf-9107-ae02704bf6ea",
   "metadata": {},
   "source": [
    "## Extract datetimes for data frame columns"
   ]
  },
  {
   "cell_type": "code",
   "execution_count": 2,
   "id": "8d1742e8-57fe-4118-8c96-b82541beab45",
   "metadata": {
    "execution": {
     "iopub.execute_input": "2021-06-11T23:37:39.448092Z",
     "iopub.status.busy": "2021-06-11T23:37:39.447858Z",
     "iopub.status.idle": "2021-06-11T23:37:39.452700Z",
     "shell.execute_reply": "2021-06-11T23:37:39.451886Z",
     "shell.execute_reply.started": "2021-06-11T23:37:39.448066Z"
    }
   },
   "outputs": [],
   "source": [
    "df = pd.DataFrame({\n",
    "    'year': [2020, 2021],\n",
    "    'month': [2, 3],\n",
    "    'day': [4, 5],\n",
    "    'hour': [12, 13]\n",
    "})"
   ]
  },
  {
   "cell_type": "code",
   "execution_count": 3,
   "id": "48d7d9a9-d62d-4e74-83a2-94185b09ecad",
   "metadata": {
    "execution": {
     "iopub.execute_input": "2021-06-11T23:37:41.019715Z",
     "iopub.status.busy": "2021-06-11T23:37:41.019443Z",
     "iopub.status.idle": "2021-06-11T23:37:41.036250Z",
     "shell.execute_reply": "2021-06-11T23:37:41.035543Z",
     "shell.execute_reply.started": "2021-06-11T23:37:41.019685Z"
    }
   },
   "outputs": [
    {
     "data": {
      "text/html": [
       "<div>\n",
       "<style scoped>\n",
       "    .dataframe tbody tr th:only-of-type {\n",
       "        vertical-align: middle;\n",
       "    }\n",
       "\n",
       "    .dataframe tbody tr th {\n",
       "        vertical-align: top;\n",
       "    }\n",
       "\n",
       "    .dataframe thead th {\n",
       "        text-align: right;\n",
       "    }\n",
       "</style>\n",
       "<table border=\"1\" class=\"dataframe\">\n",
       "  <thead>\n",
       "    <tr style=\"text-align: right;\">\n",
       "      <th></th>\n",
       "      <th>year</th>\n",
       "      <th>month</th>\n",
       "      <th>day</th>\n",
       "      <th>hour</th>\n",
       "    </tr>\n",
       "  </thead>\n",
       "  <tbody>\n",
       "    <tr>\n",
       "      <th>0</th>\n",
       "      <td>2020</td>\n",
       "      <td>2</td>\n",
       "      <td>4</td>\n",
       "      <td>12</td>\n",
       "    </tr>\n",
       "    <tr>\n",
       "      <th>1</th>\n",
       "      <td>2021</td>\n",
       "      <td>3</td>\n",
       "      <td>5</td>\n",
       "      <td>13</td>\n",
       "    </tr>\n",
       "  </tbody>\n",
       "</table>\n",
       "</div>"
      ],
      "text/plain": [
       "   year  month  day  hour\n",
       "0  2020      2    4    12\n",
       "1  2021      3    5    13"
      ]
     },
     "execution_count": 3,
     "metadata": {},
     "output_type": "execute_result"
    }
   ],
   "source": [
    "df"
   ]
  },
  {
   "cell_type": "code",
   "execution_count": 4,
   "id": "ece32356-9d67-44ca-9198-383f2d6c3efa",
   "metadata": {
    "execution": {
     "iopub.execute_input": "2021-06-11T23:37:50.033840Z",
     "iopub.status.busy": "2021-06-11T23:37:50.033593Z",
     "iopub.status.idle": "2021-06-11T23:37:50.045053Z",
     "shell.execute_reply": "2021-06-11T23:37:50.044327Z",
     "shell.execute_reply.started": "2021-06-11T23:37:50.033813Z"
    }
   },
   "outputs": [
    {
     "data": {
      "text/plain": [
       "0   2020-02-04 12:00:00\n",
       "1   2021-03-05 13:00:00\n",
       "dtype: datetime64[ns]"
      ]
     },
     "execution_count": 4,
     "metadata": {},
     "output_type": "execute_result"
    }
   ],
   "source": [
    "pd.to_datetime(df)"
   ]
  },
  {
   "cell_type": "code",
   "execution_count": 5,
   "id": "a0217508-3983-40b1-bab2-15368fb7c5e8",
   "metadata": {
    "execution": {
     "iopub.execute_input": "2021-06-11T23:37:59.636603Z",
     "iopub.status.busy": "2021-06-11T23:37:59.636331Z",
     "iopub.status.idle": "2021-06-11T23:37:59.640240Z",
     "shell.execute_reply": "2021-06-11T23:37:59.639620Z",
     "shell.execute_reply.started": "2021-06-11T23:37:59.636572Z"
    }
   },
   "outputs": [],
   "source": [
    "df['value'] = 1"
   ]
  },
  {
   "cell_type": "code",
   "execution_count": 7,
   "id": "aac2321f-f908-4c78-8c27-c09d0bb26bf5",
   "metadata": {
    "execution": {
     "iopub.execute_input": "2021-06-11T23:38:20.742662Z",
     "iopub.status.busy": "2021-06-11T23:38:20.742406Z",
     "iopub.status.idle": "2021-06-11T23:38:20.750769Z",
     "shell.execute_reply": "2021-06-11T23:38:20.750126Z",
     "shell.execute_reply.started": "2021-06-11T23:38:20.742633Z"
    }
   },
   "outputs": [
    {
     "data": {
      "text/html": [
       "<div>\n",
       "<style scoped>\n",
       "    .dataframe tbody tr th:only-of-type {\n",
       "        vertical-align: middle;\n",
       "    }\n",
       "\n",
       "    .dataframe tbody tr th {\n",
       "        vertical-align: top;\n",
       "    }\n",
       "\n",
       "    .dataframe thead th {\n",
       "        text-align: right;\n",
       "    }\n",
       "</style>\n",
       "<table border=\"1\" class=\"dataframe\">\n",
       "  <thead>\n",
       "    <tr style=\"text-align: right;\">\n",
       "      <th></th>\n",
       "      <th>year</th>\n",
       "      <th>month</th>\n",
       "      <th>day</th>\n",
       "      <th>hour</th>\n",
       "      <th>value</th>\n",
       "    </tr>\n",
       "  </thead>\n",
       "  <tbody>\n",
       "    <tr>\n",
       "      <th>0</th>\n",
       "      <td>2020</td>\n",
       "      <td>2</td>\n",
       "      <td>4</td>\n",
       "      <td>12</td>\n",
       "      <td>1</td>\n",
       "    </tr>\n",
       "    <tr>\n",
       "      <th>1</th>\n",
       "      <td>2021</td>\n",
       "      <td>3</td>\n",
       "      <td>5</td>\n",
       "      <td>13</td>\n",
       "      <td>1</td>\n",
       "    </tr>\n",
       "  </tbody>\n",
       "</table>\n",
       "</div>"
      ],
      "text/plain": [
       "   year  month  day  hour  value\n",
       "0  2020      2    4    12      1\n",
       "1  2021      3    5    13      1"
      ]
     },
     "execution_count": 7,
     "metadata": {},
     "output_type": "execute_result"
    }
   ],
   "source": [
    "df"
   ]
  },
  {
   "cell_type": "code",
   "execution_count": 8,
   "id": "945bbe0f-25bb-4ebb-8a34-d9ea793c8672",
   "metadata": {
    "execution": {
     "iopub.execute_input": "2021-06-11T23:38:47.492409Z",
     "iopub.status.busy": "2021-06-11T23:38:47.492188Z",
     "iopub.status.idle": "2021-06-11T23:38:47.495064Z",
     "shell.execute_reply": "2021-06-11T23:38:47.494438Z",
     "shell.execute_reply.started": "2021-06-11T23:38:47.492383Z"
    },
    "tags": []
   },
   "outputs": [],
   "source": [
    "# pd.to_datetime(df)  # error because value column is not a valid datetime component"
   ]
  },
  {
   "cell_type": "markdown",
   "id": "c696ebb5-c593-49a6-aef1-ec649231cce6",
   "metadata": {},
   "source": [
    "## Truncating time series"
   ]
  },
  {
   "cell_type": "code",
   "execution_count": 15,
   "id": "45bc9caa-2f07-4191-b02b-ae3de836a82d",
   "metadata": {
    "execution": {
     "iopub.execute_input": "2021-06-11T23:44:29.439336Z",
     "iopub.status.busy": "2021-06-11T23:44:29.439099Z",
     "iopub.status.idle": "2021-06-11T23:44:29.443236Z",
     "shell.execute_reply": "2021-06-11T23:44:29.442469Z",
     "shell.execute_reply.started": "2021-06-11T23:44:29.439309Z"
    },
    "tags": []
   },
   "outputs": [],
   "source": [
    "ts = pd.Series(range(4),\n",
    "               index=pd.date_range('2020-06-01', periods=4, freq='M'))"
   ]
  },
  {
   "cell_type": "code",
   "execution_count": 18,
   "id": "1165a7ca-5211-415a-b8bd-e2ac088bc50b",
   "metadata": {
    "execution": {
     "iopub.execute_input": "2021-06-11T23:45:19.846732Z",
     "iopub.status.busy": "2021-06-11T23:45:19.846465Z",
     "iopub.status.idle": "2021-06-11T23:45:19.852038Z",
     "shell.execute_reply": "2021-06-11T23:45:19.851261Z",
     "shell.execute_reply.started": "2021-06-11T23:45:19.846701Z"
    }
   },
   "outputs": [
    {
     "data": {
      "text/plain": [
       "2020-06-30    0\n",
       "2020-07-31    1\n",
       "2020-08-31    2\n",
       "2020-09-30    3\n",
       "Freq: M, dtype: int64"
      ]
     },
     "execution_count": 18,
     "metadata": {},
     "output_type": "execute_result"
    }
   ],
   "source": [
    "ts"
   ]
  },
  {
   "cell_type": "code",
   "execution_count": 17,
   "id": "28acfac3-3e59-46cf-94d6-90e99c2048e7",
   "metadata": {
    "execution": {
     "iopub.execute_input": "2021-06-11T23:45:16.991950Z",
     "iopub.status.busy": "2021-06-11T23:45:16.991709Z",
     "iopub.status.idle": "2021-06-11T23:45:16.998239Z",
     "shell.execute_reply": "2021-06-11T23:45:16.997452Z",
     "shell.execute_reply.started": "2021-06-11T23:45:16.991922Z"
    },
    "tags": []
   },
   "outputs": [
    {
     "data": {
      "text/plain": [
       "2020-07-31    1\n",
       "2020-08-31    2\n",
       "Freq: M, dtype: int64"
      ]
     },
     "execution_count": 17,
     "metadata": {},
     "output_type": "execute_result"
    }
   ],
   "source": [
    "ts.truncate(before='2020-07-15', after='2020-09-17')"
   ]
  },
  {
   "cell_type": "code",
   "execution_count": 19,
   "id": "a3d5b006-397c-4152-b8f8-da26893d72ff",
   "metadata": {
    "execution": {
     "iopub.execute_input": "2021-06-11T23:46:38.569160Z",
     "iopub.status.busy": "2021-06-11T23:46:38.568892Z",
     "iopub.status.idle": "2021-06-11T23:46:38.574340Z",
     "shell.execute_reply": "2021-06-11T23:46:38.573604Z",
     "shell.execute_reply.started": "2021-06-11T23:46:38.569130Z"
    }
   },
   "outputs": [
    {
     "data": {
      "text/plain": [
       "DatetimeIndex(['2020-06-30', '2020-07-31', '2020-08-31', '2020-09-30'], dtype='datetime64[ns]', freq='M')"
      ]
     },
     "execution_count": 19,
     "metadata": {},
     "output_type": "execute_result"
    }
   ],
   "source": [
    "ts.index"
   ]
  },
  {
   "cell_type": "code",
   "execution_count": 24,
   "id": "75c2c782-8218-438d-acbf-7ce2959f1359",
   "metadata": {
    "execution": {
     "iopub.execute_input": "2021-06-11T23:47:15.849659Z",
     "iopub.status.busy": "2021-06-11T23:47:15.849432Z",
     "iopub.status.idle": "2021-06-11T23:47:15.854302Z",
     "shell.execute_reply": "2021-06-11T23:47:15.853692Z",
     "shell.execute_reply.started": "2021-06-11T23:47:15.849633Z"
    },
    "tags": []
   },
   "outputs": [
    {
     "data": {
      "text/plain": [
       "DatetimeIndex(['2020-07-31', '2020-08-31'], dtype='datetime64[ns]', freq='M')"
      ]
     },
     "execution_count": 24,
     "metadata": {},
     "output_type": "execute_result"
    }
   ],
   "source": [
    "ts[[1, 2]].index"
   ]
  },
  {
   "cell_type": "code",
   "execution_count": null,
   "id": "45ee05cb-c814-4672-b853-5ed7b5dbd494",
   "metadata": {},
   "outputs": [],
   "source": []
  }
 ],
 "metadata": {
  "kernelspec": {
   "display_name": "Python 3",
   "language": "python",
   "name": "python3"
  },
  "language_info": {
   "codemirror_mode": {
    "name": "ipython",
    "version": 3
   },
   "file_extension": ".py",
   "mimetype": "text/x-python",
   "name": "python",
   "nbconvert_exporter": "python",
   "pygments_lexer": "ipython3",
   "version": "3.8.3"
  }
 },
 "nbformat": 4,
 "nbformat_minor": 5
}
