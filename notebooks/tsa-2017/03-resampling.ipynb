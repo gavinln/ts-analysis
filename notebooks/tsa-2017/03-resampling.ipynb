{
 "cells": [
  {
   "cell_type": "markdown",
   "id": "5ffe7ce8-32a0-4185-9737-0a884dc14480",
   "metadata": {},
   "source": [
    "# Resampling"
   ]
  },
  {
   "cell_type": "code",
   "execution_count": 2,
   "id": "0dde23b9-ab9b-4b87-bbf5-8a100a2872fa",
   "metadata": {
    "tags": []
   },
   "outputs": [],
   "source": [
    "import pandas as pd"
   ]
  },
  {
   "cell_type": "code",
   "execution_count": 11,
   "id": "dfe9f50b-dd95-4910-9acc-2bb090ae2bba",
   "metadata": {},
   "outputs": [],
   "source": [
    "d_range = pd.date_range('2020-06-01', periods=6, freq='H')\n",
    "ts = pd.Series(range(len(d_range)), index=d_range)"
   ]
  },
  {
   "cell_type": "code",
   "execution_count": 12,
   "id": "48d7d9a9-d62d-4e74-83a2-94185b09ecad",
   "metadata": {
    "tags": []
   },
   "outputs": [
    {
     "data": {
      "text/plain": [
       "2020-06-01 00:00:00    0\n",
       "2020-06-01 01:00:00    1\n",
       "2020-06-01 02:00:00    2\n",
       "2020-06-01 03:00:00    3\n",
       "2020-06-01 04:00:00    4\n",
       "2020-06-01 05:00:00    5\n",
       "Freq: H, dtype: int64"
      ]
     },
     "execution_count": 12,
     "metadata": {},
     "output_type": "execute_result"
    }
   ],
   "source": [
    "ts"
   ]
  },
  {
   "cell_type": "code",
   "execution_count": 13,
   "id": "6046d966-3e56-4b6f-83be-73adf48bf5a1",
   "metadata": {},
   "outputs": [
    {
     "data": {
      "text/plain": [
       "2020-06-01 00:00:00    0\n",
       "2020-06-01 00:45:00    0\n",
       "2020-06-01 01:30:00    1\n",
       "2020-06-01 02:15:00    2\n",
       "2020-06-01 03:00:00    3\n",
       "2020-06-01 03:45:00    3\n",
       "2020-06-01 04:30:00    4\n",
       "Freq: 45T, dtype: int64"
      ]
     },
     "execution_count": 13,
     "metadata": {},
     "output_type": "execute_result"
    }
   ],
   "source": [
    "converted = ts.asfreq('45min', method='ffill')\n",
    "converted"
   ]
  },
  {
   "cell_type": "code",
   "execution_count": 14,
   "id": "9de37553-92b3-4458-8b89-750e46eca840",
   "metadata": {},
   "outputs": [
    {
     "data": {
      "text/plain": [
       "2020-06-01 00:00:00    0\n",
       "2020-06-01 00:45:00    1\n",
       "2020-06-01 01:30:00    2\n",
       "2020-06-01 02:15:00    3\n",
       "2020-06-01 03:00:00    3\n",
       "2020-06-01 03:45:00    4\n",
       "2020-06-01 04:30:00    5\n",
       "Freq: 45T, dtype: int64"
      ]
     },
     "execution_count": 14,
     "metadata": {},
     "output_type": "execute_result"
    }
   ],
   "source": [
    "converted = ts.asfreq('45min', method='bfill')\n",
    "converted"
   ]
  },
  {
   "cell_type": "code",
   "execution_count": 15,
   "id": "8de2356d-a96a-4d6a-998d-1a925b2f32cb",
   "metadata": {},
   "outputs": [
    {
     "data": {
      "text/plain": [
       "2020-06-01 00:00:00    0.0\n",
       "2020-06-01 00:45:00    NaN\n",
       "2020-06-01 01:30:00    NaN\n",
       "2020-06-01 02:15:00    NaN\n",
       "2020-06-01 03:00:00    3.0\n",
       "2020-06-01 03:45:00    NaN\n",
       "2020-06-01 04:30:00    NaN\n",
       "Freq: 45T, dtype: float64"
      ]
     },
     "execution_count": 15,
     "metadata": {},
     "output_type": "execute_result"
    }
   ],
   "source": [
    "converted = ts.asfreq('45min', method=None)\n",
    "converted"
   ]
  },
  {
   "cell_type": "code",
   "execution_count": 16,
   "id": "eebd9f9f-b273-41fa-9da2-824721d9862b",
   "metadata": {},
   "outputs": [
    {
     "data": {
      "text/plain": [
       "2020-06-01 02:00:00    0.5\n",
       "2020-06-01 04:00:00    2.5\n",
       "2020-06-01 06:00:00    4.5\n",
       "Freq: 2H, dtype: float64"
      ]
     },
     "execution_count": 16,
     "metadata": {},
     "output_type": "execute_result"
    }
   ],
   "source": [
    "ts.resample('2H', label='right').mean()"
   ]
  }
 ],
 "metadata": {
  "kernelspec": {
   "display_name": "Python 3",
   "language": "python",
   "name": "python3"
  },
  "language_info": {
   "codemirror_mode": {
    "name": "ipython",
    "version": 3
   },
   "file_extension": ".py",
   "mimetype": "text/x-python",
   "name": "python",
   "nbconvert_exporter": "python",
   "pygments_lexer": "ipython3",
   "version": "3.8.9"
  }
 },
 "nbformat": 4,
 "nbformat_minor": 5
}
