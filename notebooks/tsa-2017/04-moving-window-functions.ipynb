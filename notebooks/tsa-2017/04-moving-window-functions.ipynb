{
 "cells": [
  {
   "cell_type": "markdown",
   "id": "5ffe7ce8-32a0-4185-9737-0a884dc14480",
   "metadata": {},
   "source": [
    "# Moving window functions"
   ]
  },
  {
   "cell_type": "code",
   "execution_count": 22,
   "id": "d073632a-d2d3-4f1a-9adc-e507d3bd298b",
   "metadata": {},
   "outputs": [],
   "source": [
    "%matplotlib inline"
   ]
  },
  {
   "cell_type": "code",
   "execution_count": 39,
   "id": "0dde23b9-ab9b-4b87-bbf5-8a100a2872fa",
   "metadata": {
    "tags": []
   },
   "outputs": [],
   "source": [
    "import pandas as pd\n",
    "import numpy as np\n",
    "import matplotlib.pyplot as plt\n",
    "import seaborn as sns"
   ]
  },
  {
   "cell_type": "code",
   "execution_count": 40,
   "id": "3a55263b-7544-46f1-a9f9-3abc460f1ba9",
   "metadata": {},
   "outputs": [],
   "source": [
    "pal = sns.color_palette()"
   ]
  },
  {
   "cell_type": "markdown",
   "id": "1b4eb2f3-fa7a-41ee-9f91-5f5e27b7aff9",
   "metadata": {},
   "source": [
    "# Shift time series"
   ]
  },
  {
   "cell_type": "code",
   "execution_count": 24,
   "id": "53a8971c-13d5-47de-9912-9c13d952afe2",
   "metadata": {},
   "outputs": [
    {
     "data": {
      "text/plain": [
       "2020-06-01    0\n",
       "2020-06-02    1\n",
       "2020-06-03    2\n",
       "2020-06-04    3\n",
       "2020-06-05    4\n",
       "2020-06-06    5\n",
       "Freq: D, dtype: int64"
      ]
     },
     "execution_count": 24,
     "metadata": {},
     "output_type": "execute_result"
    }
   ],
   "source": [
    "ts = pd.Series(range(6), \n",
    "               pd.date_range('2020-06-01', freq='D', periods=6))\n",
    "ts"
   ]
  },
  {
   "cell_type": "code",
   "execution_count": 25,
   "id": "ceff7936-85f4-4f82-8922-5a4efeaf5059",
   "metadata": {},
   "outputs": [
    {
     "data": {
      "text/plain": [
       "2020-06-01    NaN\n",
       "2020-06-02    0.0\n",
       "2020-06-03    1.0\n",
       "2020-06-04    2.0\n",
       "2020-06-05    3.0\n",
       "2020-06-06    4.0\n",
       "Freq: D, dtype: float64"
      ]
     },
     "execution_count": 25,
     "metadata": {},
     "output_type": "execute_result"
    }
   ],
   "source": [
    "ts_lagged = ts.shift()\n",
    "ts_lagged"
   ]
  },
  {
   "cell_type": "code",
   "execution_count": 26,
   "id": "15e15a7c-8944-4430-bf90-f23cf50647ff",
   "metadata": {},
   "outputs": [
    {
     "data": {
      "text/plain": [
       "2020-06-01    NaN\n",
       "2020-06-02    1.0\n",
       "2020-06-03    1.0\n",
       "2020-06-04    1.0\n",
       "2020-06-05    1.0\n",
       "2020-06-06    1.0\n",
       "Freq: D, dtype: float64"
      ]
     },
     "execution_count": 26,
     "metadata": {},
     "output_type": "execute_result"
    }
   ],
   "source": [
    "ts.diff()"
   ]
  },
  {
   "cell_type": "markdown",
   "id": "cee837b2-dd83-4879-b9bf-40d0f4c25c2c",
   "metadata": {},
   "source": [
    "## Moving aggregate measures of a time series"
   ]
  },
  {
   "cell_type": "code",
   "execution_count": 31,
   "id": "0bf3ca5f-5db5-4146-9e82-fa40472e8f92",
   "metadata": {},
   "outputs": [],
   "source": [
    "ts = pd.Series(np.random.randn(6), \n",
    "               pd.date_range('2020-06-01', freq='D', periods=6))"
   ]
  },
  {
   "cell_type": "code",
   "execution_count": 44,
   "id": "77e2c218-e655-42ad-9be1-8fd07f27de68",
   "metadata": {},
   "outputs": [],
   "source": [
    "ts_mean = ts.rolling(window=2).mean()\n",
    "ts_min = ts.rolling(window=2).min()"
   ]
  },
  {
   "cell_type": "code",
   "execution_count": 49,
   "id": "ecb21798-e9ef-4fa0-ba68-ea2ecd16cccb",
   "metadata": {},
   "outputs": [
    {
     "data": {
      "text/plain": [
       "<matplotlib.legend.Legend at 0x7fa4d7efcfa0>"
      ]
     },
     "execution_count": 49,
     "metadata": {},
     "output_type": "execute_result"
    },
    {
     "data": {
      "image/png": "[encoded data removed]",
      "text/plain": [
       "<Figure size 432x288 with 1 Axes>"
      ]
     },
     "metadata": {
      "needs_background": "light"
     },
     "output_type": "display_data"
    }
   ],
   "source": [
    "plt.plot(ts, color=pal[0], ls='-.', label='time series')\n",
    "plt.plot(ts_mean, color=pal[1], ls=':', label='mean time series')\n",
    "plt.plot(ts_min, color=pal[2], label='min time series')\n",
    "plt.legend()"
   ]
  },
  {
   "cell_type": "code",
   "execution_count": 50,
   "id": "aaba33b4-7e4a-4a2b-9643-1f965e89c1b3",
   "metadata": {},
   "outputs": [
    {
     "data": {
      "text/plain": [
       "2020-06-01         NaN\n",
       "2020-06-02    0.373424\n",
       "2020-06-03   -0.878421\n",
       "2020-06-04    0.871252\n",
       "2020-06-05    0.566060\n",
       "2020-06-06   -1.108360\n",
       "Freq: D, dtype: float64"
      ]
     },
     "execution_count": 50,
     "metadata": {},
     "output_type": "execute_result"
    }
   ],
   "source": [
    "ts.rolling(window=2).apply(lambda x: (x[0] - x[1])/2)"
   ]
  },
  {
   "cell_type": "markdown",
   "id": "83cf97e0-3b2b-4ee1-be67-bdad4cb3568b",
   "metadata": {},
   "source": [
    "### Expanding windows"
   ]
  },
  {
   "cell_type": "code",
   "execution_count": 52,
   "id": "b9a505c0-5cf8-4c9d-8849-b887a2ae80fe",
   "metadata": {},
   "outputs": [],
   "source": [
    "ts = pd.Series(range(6), \n",
    "               pd.date_range('2020-06-01', freq='D', periods=6))"
   ]
  },
  {
   "cell_type": "code",
   "execution_count": 56,
   "id": "96683197-041f-423a-a0be-8af8799bd49d",
   "metadata": {},
   "outputs": [
    {
     "data": {
      "text/plain": [
       "2020-06-01    0\n",
       "2020-06-02    1\n",
       "2020-06-03    2\n",
       "2020-06-04    3\n",
       "2020-06-05    4\n",
       "2020-06-06    5\n",
       "Freq: D, dtype: int64"
      ]
     },
     "execution_count": 56,
     "metadata": {},
     "output_type": "execute_result"
    }
   ],
   "source": [
    "ts"
   ]
  },
  {
   "cell_type": "code",
   "execution_count": 57,
   "id": "8ab82884-77f6-44bd-a84e-170751061107",
   "metadata": {},
   "outputs": [
    {
     "data": {
      "text/plain": [
       "2020-06-01    NaN\n",
       "2020-06-02    0.5\n",
       "2020-06-03    1.0\n",
       "2020-06-04    1.5\n",
       "2020-06-05    2.0\n",
       "2020-06-06    2.5\n",
       "Freq: D, dtype: float64"
      ]
     },
     "execution_count": 57,
     "metadata": {},
     "output_type": "execute_result"
    }
   ],
   "source": [
    "ts.expanding(min_periods=2).mean()"
   ]
  },
  {
   "cell_type": "markdown",
   "id": "667ecf4f-757e-468d-b77d-318d8475f8d9",
   "metadata": {},
   "source": [
    "## Expanding window moving average"
   ]
  },
  {
   "cell_type": "code",
   "execution_count": 64,
   "id": "46f8ec84-937c-45c9-a14e-2fcfec378c86",
   "metadata": {},
   "outputs": [],
   "source": [
    "ts = pd.Series(np.random.randn(6), \n",
    "               pd.date_range('2020-06-01', freq='D', periods=6))"
   ]
  },
  {
   "cell_type": "code",
   "execution_count": 65,
   "id": "634aa916-b0dd-4365-ab4a-237a0eb858b3",
   "metadata": {},
   "outputs": [],
   "source": [
    "ts_ewma = ts.ewm(com=2).mean()"
   ]
  },
  {
   "cell_type": "code",
   "execution_count": 70,
   "id": "1e77af18-d1bb-481b-9587-85cb345b34d6",
   "metadata": {},
   "outputs": [
    {
     "data": {
      "text/plain": [
       "<matplotlib.legend.Legend at 0x7fa4d66506a0>"
      ]
     },
     "execution_count": 70,
     "metadata": {},
     "output_type": "execute_result"
    },
    {
     "data": {
      "image/png": "[encoded data removed]",
      "text/plain": [
       "<Figure size 432x288 with 1 Axes>"
      ]
     },
     "metadata": {
      "needs_background": "light"
     },
     "output_type": "display_data"
    }
   ],
   "source": [
    "plt.plot(ts, color=pal[0], label='time series')\n",
    "plt.plot(ts_ewma, color=pal[1], label='exponential weighed moving avg')\n",
    "plt.legend()"
   ]
  },
  {
   "cell_type": "code",
   "execution_count": null,
   "id": "10e2bd27-dd69-4254-86a6-219eb3d6ebcb",
   "metadata": {},
   "outputs": [],
   "source": []
  }
 ],
 "metadata": {
  "kernelspec": {
   "display_name": "Python 3",
   "language": "python",
   "name": "python3"
  },
  "language_info": {
   "codemirror_mode": {
    "name": "ipython",
    "version": 3
   },
   "file_extension": ".py",
   "mimetype": "text/x-python",
   "name": "python",
   "nbconvert_exporter": "python",
   "pygments_lexer": "ipython3",
   "version": "3.8.9"
  }
 },
 "nbformat": 4,
 "nbformat_minor": 5
}
